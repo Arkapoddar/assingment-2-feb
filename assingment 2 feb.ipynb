{
 "cells": [
  {
   "cell_type": "code",
   "execution_count": null,
   "id": "96094a70-d242-468d-9f3a-f5d0cacf4ce1",
   "metadata": {},
   "outputs": [
    {
     "ename": "IndentationError",
     "evalue": "unexpected indent (3928459046.py, line 3)",
     "output_type": "error",
     "traceback": [
      "\u001b[0;36m  Cell \u001b[0;32mIn[1], line 3\u001b[0;36m\u001b[0m\n\u001b[0;31m    <1> at first the statement of for loop is executed then increment or decrement the values\u001b[0m\n\u001b[0m    ^\u001b[0m\n\u001b[0;31mIndentationError\u001b[0m\u001b[0;31m:\u001b[0m unexpected indent\n"
     ]
    }
   ],
   "source": [
    "#when to use for loop and ehile loop\n",
    "\n",
    "   <1> at first the statement of for loop is executed then increment or decrement the values\n",
    "   <1> in while loop , increment or decrement both can be done after or before the statement is executed    \n",
    "\n",
    "    <2> we used for loop when we already know no of loop of itretion\n",
    "    <2> we used while loop when we dont know no of itretion\n",
    "    \n",
    "    <3> if the condition is not satisfied it execute infinite times\n",
    "    <3> but in while loop if the condition is not satisfied it will show compilation error\n",
    "    "
   ]
  },
  {
   "cell_type": "code",
   "execution_count": 2,
   "id": "7557e4e9-8c7c-4ee6-b470-621834d0b9ba",
   "metadata": {},
   "outputs": [
    {
     "name": "stdout",
     "output_type": "stream",
     "text": [
      "the sum of first 10 number is 55\n",
      "the multiplication of first 10 number is 3628800\n"
     ]
    }
   ],
   "source": [
    "sum=0\n",
    "mul=1\n",
    "i=1\n",
    "while(i<=10):\n",
    "    sum=sum+i\n",
    "    mul=mul*i\n",
    "    i=i+1\n",
    "print(\"the sum of first 10 number is\",sum)\n",
    "print(\"the multiplication of first 10 number is\",mul)"
   ]
  },
  {
   "cell_type": "code",
   "execution_count": 6,
   "id": "d5876ede-338d-487b-a5c9-9f465ab6012f",
   "metadata": {},
   "outputs": [
    {
     "name": "stdin",
     "output_type": "stream",
     "text": [
      "enter the bill unit 80\n"
     ]
    },
    {
     "name": "stdout",
     "output_type": "stream",
     "text": [
      "your charged is 360.0\n"
     ]
    }
   ],
   "source": [
    "bill=int(input(\"enter the bill unit\"))\n",
    "if (bill<=100):\n",
    "    charged=bill*4.5\n",
    "elif(bill<=200):\n",
    "    charged=bill*6\n",
    "elif(bill<=300):\n",
    "    charged=bill*10\n",
    "else:\n",
    "    charged=bill*20\n",
    "print(\"your charged is\",charged)                "
   ]
  },
  {
   "cell_type": "code",
   "execution_count": 8,
   "id": "c1670890-80bd-48c0-8af6-e69bea0bb78f",
   "metadata": {},
   "outputs": [
    {
     "name": "stdout",
     "output_type": "stream",
     "text": [
      "[2, 4, 5, 6, 8, 10, 12, 14, 15, 16, 18, 20, 22, 24, 25, 26, 28, 30, 32, 34, 35, 36, 38, 40, 42, 44, 45, 46, 48, 50, 52, 54, 55, 56, 58, 60, 62, 64, 65, 66, 68, 70, 72, 74, 75, 76, 78, 80, 82, 84, 85, 86, 88, 90, 92, 94, 95, 96, 98, 100]\n"
     ]
    }
   ],
   "source": [
    "list=[]\n",
    "\n",
    "for i in range(1,101):\n",
    "    cube=1\n",
    "    cube=i*i*i\n",
    "    if (cube%4==0 or cube%5==0):\n",
    "        list.append(i)\n",
    "print(list)        "
   ]
  },
  {
   "cell_type": "code",
   "execution_count": 9,
   "id": "98183221-197f-4109-9547-e033496b4e24",
   "metadata": {},
   "outputs": [
    {
     "name": "stdin",
     "output_type": "stream",
     "text": [
      "enter the given string i want to become a data scientist\n"
     ]
    },
    {
     "name": "stdout",
     "output_type": "stream",
     "text": [
      "i\n",
      "a\n",
      "o\n",
      "e\n",
      "o\n",
      "e\n",
      "a\n",
      "a\n",
      "a\n",
      "i\n",
      "e\n",
      "i\n",
      "12\n"
     ]
    }
   ],
   "source": [
    "string=input(\"enter the given string\")\n",
    "vowel=0\n",
    "for i in string:\n",
    "    if(i=='a' or i=='e' or i=='i' or i=='o' or i=='u'):\n",
    "        vowel=vowel+1\n",
    "        print(i)\n",
    "print(vowel)        "
   ]
  },
  {
   "cell_type": "code",
   "execution_count": null,
   "id": "81281a42-7e22-4e67-bee9-c35f27916caa",
   "metadata": {},
   "outputs": [],
   "source": []
  }
 ],
 "metadata": {
  "kernelspec": {
   "display_name": "Python 3 (ipykernel)",
   "language": "python",
   "name": "python3"
  },
  "language_info": {
   "codemirror_mode": {
    "name": "ipython",
    "version": 3
   },
   "file_extension": ".py",
   "mimetype": "text/x-python",
   "name": "python",
   "nbconvert_exporter": "python",
   "pygments_lexer": "ipython3",
   "version": "3.10.8"
  }
 },
 "nbformat": 4,
 "nbformat_minor": 5
}
